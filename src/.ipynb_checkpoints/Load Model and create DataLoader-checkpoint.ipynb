{
 "cells": [
  {
   "cell_type": "code",
   "execution_count": 1,
   "metadata": {},
   "outputs": [],
   "source": [
    "import torch\n",
    "import matplotlib.pyplot as plt\n",
    "from MLP_trainer import MLP\n",
    "from torch.utils.data import Dataset, DataLoader"
   ]
  },
  {
   "cell_type": "code",
   "execution_count": 2,
   "metadata": {},
   "outputs": [],
   "source": [
    "input_size = 784\n",
    "batch_size = 64\n",
    "hidden_size = 100\n",
    "num_classes = 10\n",
    "learning_rate = 0.001\n",
    "num_epochs = 10\n",
    "model_num=0"
   ]
  },
  {
   "cell_type": "code",
   "execution_count": 3,
   "metadata": {},
   "outputs": [],
   "source": [
    "weights = []\n",
    "model = MLP(input_size=input_size, hidden_size=hidden_size, num_classes=num_classes)\n",
    "for i in range(30):\n",
    "    model.load_state_dict(torch.load('../model/model_{i}.ckpt'))\n",
    "    weights.append(model.fc1.weight.data.flatten())\n",
    "all_weights = torch.vstack(weights).flatten().reshape(-1, 100)"
   ]
  },
  {
   "cell_type": "code",
   "execution_count": 4,
   "metadata": {},
   "outputs": [
    {
     "data": {
      "text/plain": [
       "torch.Size([23520, 100])"
      ]
     },
     "execution_count": 4,
     "metadata": {},
     "output_type": "execute_result"
    }
   ],
   "source": [
    "all_weights.size()"
   ]
  },
  {
   "cell_type": "code",
   "execution_count": 7,
   "metadata": {},
   "outputs": [],
   "source": [
    "class Weight(Dataset):\n",
    "    def __init__(self, X):\n",
    "        self.X = X\n",
    "        \n",
    "    def __len__(self):\n",
    "        return len(self.X)\n",
    "    \n",
    "    def __getitem__(self, index):\n",
    "        return self.X[index, :]\n",
    "    "
   ]
  },
  {
   "cell_type": "code",
   "execution_count": 8,
   "metadata": {},
   "outputs": [
    {
     "name": "stdout",
     "output_type": "stream",
     "text": [
      "torch.Size([784, 100])\n",
      "0\n",
      "torch.Size([784, 100])\n",
      "1\n",
      "torch.Size([784, 100])\n",
      "2\n",
      "torch.Size([784, 100])\n",
      "3\n",
      "torch.Size([784, 100])\n",
      "4\n",
      "torch.Size([784, 100])\n",
      "5\n",
      "torch.Size([784, 100])\n",
      "6\n",
      "torch.Size([784, 100])\n",
      "7\n",
      "torch.Size([784, 100])\n",
      "8\n",
      "torch.Size([784, 100])\n",
      "9\n",
      "torch.Size([784, 100])\n",
      "10\n",
      "torch.Size([784, 100])\n",
      "11\n",
      "torch.Size([784, 100])\n",
      "12\n",
      "torch.Size([784, 100])\n",
      "13\n",
      "torch.Size([784, 100])\n",
      "14\n",
      "torch.Size([784, 100])\n",
      "15\n",
      "torch.Size([784, 100])\n",
      "16\n",
      "torch.Size([784, 100])\n",
      "17\n",
      "torch.Size([784, 100])\n",
      "18\n",
      "torch.Size([784, 100])\n",
      "19\n",
      "torch.Size([784, 100])\n",
      "20\n",
      "torch.Size([784, 100])\n",
      "21\n",
      "torch.Size([784, 100])\n",
      "22\n",
      "torch.Size([784, 100])\n",
      "23\n",
      "torch.Size([784, 100])\n",
      "24\n",
      "torch.Size([784, 100])\n",
      "25\n",
      "torch.Size([784, 100])\n",
      "26\n",
      "torch.Size([784, 100])\n",
      "27\n",
      "torch.Size([784, 100])\n",
      "28\n",
      "torch.Size([784, 100])\n",
      "29\n"
     ]
    }
   ],
   "source": [
    "data_loader = DataLoader(Weight(all_weights), batch_size=784)\n",
    "for i, row in enumerate(data_loader):\n",
    "    print(row.size())\n",
    "    print(i)"
   ]
  },
  {
   "cell_type": "code",
   "execution_count": 9,
   "metadata": {},
   "outputs": [],
   "source": [
    "class AE(torch.nn.Module):\n",
    "    def __init__(self):\n",
    "        super().__init__()\n",
    "          \n",
    "        self.encoder = torch.nn.Sequential(\n",
    "            torch.nn.Linear(100, 10),\n",
    "        )\n",
    "          \n",
    "\n",
    "        self.decoder = torch.nn.Sequential(\n",
    "            torch.nn.Linear(10, 100),\n",
    "        )\n",
    "  \n",
    "    def forward(self, x):\n",
    "        encoded = self.encoder(x)\n",
    "        decoded = self.decoder(encoded)\n",
    "        return decoded"
   ]
  },
  {
   "cell_type": "code",
   "execution_count": 10,
   "metadata": {},
   "outputs": [],
   "source": [
    "# Model Initialization\n",
    "model_ae = AE()\n",
    "  \n",
    "# Validation using MSE Loss function\n",
    "loss_function = torch.nn.MSELoss()\n",
    "  \n",
    "# Using an Adam Optimizer with lr = 0.1\n",
    "optimizer = torch.optim.Adam(model_ae.parameters(),\n",
    "                             lr = 1e-1,\n",
    "                             weight_decay = 1e-8)"
   ]
  },
  {
   "cell_type": "code",
   "execution_count": 11,
   "metadata": {},
   "outputs": [
    {
     "name": "stdout",
     "output_type": "stream",
     "text": [
      "AE(\n",
      "  (encoder): Sequential(\n",
      "    (0): Linear(in_features=100, out_features=10, bias=True)\n",
      "  )\n",
      "  (decoder): Sequential(\n",
      "    (0): Linear(in_features=10, out_features=100, bias=True)\n",
      "  )\n",
      ")\n"
     ]
    }
   ],
   "source": [
    "print(model_ae)"
   ]
  },
  {
   "cell_type": "code",
   "execution_count": 12,
   "metadata": {},
   "outputs": [
    {
     "data": {
      "text/plain": [
       "[<matplotlib.lines.Line2D at 0x1340e25e0>]"
      ]
     },
     "execution_count": 12,
     "metadata": {},
     "output_type": "execute_result"
    },
    {
     "data": {
      "image/png": "[encoded data removed]",
      "text/plain": [
       "<Figure size 432x288 with 1 Axes>"
      ]
     },
     "metadata": {},
     "output_type": "display_data"
    }
   ],
   "source": [
    "epochs = 100\n",
    "outputs = []\n",
    "losses = []\n",
    "for epoch in range(epochs):\n",
    "    for weight in data_loader:\n",
    "        optimizer.zero_grad()\n",
    "        outputs = model_ae(weight)\n",
    "        loss = loss_function(outputs, weight)\n",
    "        loss.backward()\n",
    "        optimizer.step()\n",
    "        losses.append(loss.detach())\n",
    "  \n",
    "# Defining the Plot Style\n",
    "plt.style.use('fivethirtyeight')\n",
    "plt.xlabel('Iterations')\n",
    "plt.ylabel('Loss')\n",
    "  \n",
    "# Plotting the last 100 values\n",
    "plt.plot(losses)"
   ]
  },
  {
   "cell_type": "code",
   "execution_count": 13,
   "metadata": {},
   "outputs": [
    {
     "name": "stdout",
     "output_type": "stream",
     "text": [
      "tensor(0.0091)\n"
     ]
    }
   ],
   "source": [
    "print(losses[-1])"
   ]
  },
  {
   "cell_type": "markdown",
   "metadata": {},
   "source": [
    "### Use the new model to evaluate MNIST"
   ]
  },
  {
   "cell_type": "code",
   "execution_count": 14,
   "metadata": {},
   "outputs": [
    {
     "name": "stdout",
     "output_type": "stream",
     "text": [
      "torch.Size([784, 100])\n",
      "torch.Size([784, 100])\n",
      "torch.Size([784, 100])\n",
      "torch.Size([784, 100])\n",
      "torch.Size([784, 100])\n",
      "torch.Size([784, 100])\n",
      "torch.Size([784, 100])\n",
      "torch.Size([784, 100])\n",
      "torch.Size([784, 100])\n",
      "torch.Size([784, 100])\n",
      "torch.Size([784, 100])\n",
      "torch.Size([784, 100])\n",
      "torch.Size([784, 100])\n",
      "torch.Size([784, 100])\n",
      "torch.Size([784, 100])\n",
      "torch.Size([784, 100])\n",
      "torch.Size([784, 100])\n",
      "torch.Size([784, 100])\n",
      "torch.Size([784, 100])\n",
      "torch.Size([784, 100])\n",
      "torch.Size([784, 100])\n",
      "torch.Size([784, 100])\n",
      "torch.Size([784, 100])\n",
      "torch.Size([784, 100])\n",
      "torch.Size([784, 100])\n",
      "torch.Size([784, 100])\n",
      "torch.Size([784, 100])\n",
      "torch.Size([784, 100])\n",
      "torch.Size([784, 100])\n",
      "torch.Size([784, 100])\n"
     ]
    }
   ],
   "source": [
    "reconstructed = []\n",
    "for weight in data_loader:\n",
    "        \n",
    "    print(weight.size())\n",
    "    optimizer.zero_grad()\n",
    "    outputs = model_ae(weight)\n",
    "    reconstructed.append(outputs)\n"
   ]
  },
  {
   "cell_type": "code",
   "execution_count": 20,
   "metadata": {},
   "outputs": [],
   "source": []
  },
  {
   "cell_type": "code",
   "execution_count": 22,
   "metadata": {},
   "outputs": [],
   "source": [
    "model.fc1.weight.data = new_weight"
   ]
  },
  {
   "cell_type": "code",
   "execution_count": 27,
   "metadata": {},
   "outputs": [],
   "source": [
    "import torchvision\n",
    "import torchvision.transforms as transforms\n",
    "\n",
    "\n",
    "device = torch.device('cude' if torch.cuda.is_available() else 'cpu')\n",
    "\n",
    "# hyperparameters\n",
    "input_size = 784\n",
    "batch_size = 64\n",
    "hidden_size = 100\n",
    "num_classes = 10\n",
    "learning_rate = 0.001\n",
    "num_epochs = 10\n",
    "model_num=0\n",
    "\n",
    "# MNIST dataset\n",
    "train_dataset = torchvision.datasets.MNIST(root='../data',\n",
    "                                           train=True,\n",
    "                                           transform=transforms.ToTensor(),\n",
    "                                           download=True)\n",
    "\n",
    "test_dataset = torchvision.datasets.MNIST(root='../data',\n",
    "                                          train=False,\n",
    "                                          transform=transforms.ToTensor())\n",
    "\n",
    "\n",
    "# Data Loader\n",
    "train_loader = torch.utils.data.DataLoader(dataset=train_dataset,\n",
    "                                           batch_size=batch_size,\n",
    "                                           shuffle=True)\n",
    "\n",
    "test_loader = torch.utils.data.DataLoader(dataset=test_dataset,\n",
    "                                          batch_size=batch_size,\n",
    "                                          shuffle=False)\n",
    "def evaluate_model(model):\n",
    "    # Test the model\n",
    "    with torch.no_grad():\n",
    "        correct = 0\n",
    "        total = 0\n",
    "        for images, labels in test_loader:\n",
    "            images = images.reshape(-1, input_size).to(device)\n",
    "            labels = labels.to(device)\n",
    "            output = model(images)\n",
    "            _, predicted = torch.max(output.data, 1)\n",
    "            total += labels.size(0)\n",
    "            correct += (predicted==labels).sum().item()\n",
    "        print(f'Accuracy of the network on the test images: {100 * correct/total}%')\n",
    "    return 100 * correct/total"
   ]
  },
  {
   "cell_type": "code",
   "execution_count": 28,
   "metadata": {},
   "outputs": [
    {
     "name": "stdout",
     "output_type": "stream",
     "text": [
      "Accuracy of the network on the test images: 78.74%\n"
     ]
    }
   ],
   "source": [
    "for reconstructured_weight in reconstructed:\n",
    "    new_weight = torch.transpose(reconstructured_weight, 1, 0)\n",
    "    model.load_state_dict(torch.load('../model/model_{i}.ckpt'))\n",
    "    model.fc1.weight.data = new_weight\n",
    "    accuracy = evaluate_model(model)\n",
    "    print(accuracy)"
   ]
  },
  {
   "cell_type": "code",
   "execution_count": null,
   "metadata": {},
   "outputs": [],
   "source": []
  }
 ],
 "metadata": {
  "kernelspec": {
   "display_name": "py38",
   "language": "python",
   "name": "py38"
  },
  "language_info": {
   "codemirror_mode": {
    "name": "ipython",
    "version": 3
   },
   "file_extension": ".py",
   "mimetype": "text/x-python",
   "name": "python",
   "nbconvert_exporter": "python",
   "pygments_lexer": "ipython3",
   "version": "3.8.11"
  }
 },
 "nbformat": 4,
 "nbformat_minor": 2
}
